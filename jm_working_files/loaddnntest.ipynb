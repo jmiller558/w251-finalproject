{
 "cells": [
  {
   "cell_type": "code",
   "execution_count": 1,
   "id": "7945970c",
   "metadata": {},
   "outputs": [],
   "source": [
    "#import numpy as np\n",
    "import cv2 as cv"
   ]
  },
  {
   "cell_type": "code",
   "execution_count": null,
   "id": "80f3a451",
   "metadata": {},
   "outputs": [],
   "source": []
  },
  {
   "cell_type": "code",
   "execution_count": null,
   "id": "2d9997ea",
   "metadata": {},
   "outputs": [],
   "source": []
  },
  {
   "cell_type": "code",
   "execution_count": 2,
   "id": "acc9013e",
   "metadata": {},
   "outputs": [
    {
     "data": {
      "text/plain": [
       "'3.4.11'"
      ]
     },
     "execution_count": 2,
     "metadata": {},
     "output_type": "execute_result"
    }
   ],
   "source": [
    "cv.__version__"
   ]
  },
  {
   "cell_type": "code",
   "execution_count": 3,
   "id": "d5cbb45a",
   "metadata": {},
   "outputs": [
    {
     "ename": "AttributeError",
     "evalue": "module 'cv2' has no attribute 'dnn'",
     "output_type": "error",
     "traceback": [
      "\u001b[0;31m---------------------------------------------------------------------------\u001b[0m",
      "\u001b[0;31mAttributeError\u001b[0m                            Traceback (most recent call last)",
      "Input \u001b[0;32mIn [3]\u001b[0m, in \u001b[0;36m<cell line: 1>\u001b[0;34m()\u001b[0m\n\u001b[0;32m----> 1\u001b[0m vegmaster \u001b[38;5;241m=\u001b[39m \u001b[43mcv\u001b[49m\u001b[38;5;241;43m.\u001b[39;49m\u001b[43mdnn\u001b[49m\u001b[38;5;241m.\u001b[39mreadNetFromONNX(\u001b[38;5;124m'\u001b[39m\u001b[38;5;124mbest.onnx\u001b[39m\u001b[38;5;124m'\u001b[39m)\n",
      "\u001b[0;31mAttributeError\u001b[0m: module 'cv2' has no attribute 'dnn'"
     ]
    }
   ],
   "source": [
    "vegmaster = cv.dnn.readNetFromONNX('best.onnx')"
   ]
  },
  {
   "cell_type": "code",
   "execution_count": 3,
   "id": "1fc789d9",
   "metadata": {},
   "outputs": [],
   "source": [
    "check = cv2.imread('redcross.jpg')"
   ]
  },
  {
   "cell_type": "code",
   "execution_count": 4,
   "id": "ca62b270",
   "metadata": {},
   "outputs": [
    {
     "data": {
      "text/plain": [
       "array([[[154, 138, 122],\n",
       "        [153, 137, 121],\n",
       "        [148, 132, 116],\n",
       "        ...,\n",
       "        [143, 126, 117],\n",
       "        [142, 125, 116],\n",
       "        [142, 125, 116]],\n",
       "\n",
       "       [[152, 136, 120],\n",
       "        [152, 136, 120],\n",
       "        [149, 133, 117],\n",
       "        ...,\n",
       "        [144, 127, 118],\n",
       "        [142, 125, 116],\n",
       "        [142, 125, 116]],\n",
       "\n",
       "       [[148, 132, 116],\n",
       "        [149, 133, 117],\n",
       "        [147, 131, 115],\n",
       "        ...,\n",
       "        [142, 125, 116],\n",
       "        [143, 126, 117],\n",
       "        [143, 126, 117]],\n",
       "\n",
       "       ...,\n",
       "\n",
       "       [[137, 150, 164],\n",
       "        [132, 145, 159],\n",
       "        [132, 145, 159],\n",
       "        ...,\n",
       "        [145, 158, 172],\n",
       "        [154, 168, 180],\n",
       "        [154, 168, 180]],\n",
       "\n",
       "       [[137, 150, 164],\n",
       "        [136, 149, 163],\n",
       "        [138, 151, 165],\n",
       "        ...,\n",
       "        [151, 164, 178],\n",
       "        [149, 163, 175],\n",
       "        [149, 163, 175]],\n",
       "\n",
       "       [[150, 163, 177],\n",
       "        [150, 163, 177],\n",
       "        [151, 164, 178],\n",
       "        ...,\n",
       "        [155, 168, 182],\n",
       "        [153, 167, 179],\n",
       "        [153, 167, 179]]], dtype=uint8)"
      ]
     },
     "execution_count": 4,
     "metadata": {},
     "output_type": "execute_result"
    }
   ],
   "source": [
    "check"
   ]
  },
  {
   "cell_type": "code",
   "execution_count": null,
   "id": "ce84d29b",
   "metadata": {},
   "outputs": [],
   "source": []
  }
 ],
 "metadata": {
  "kernelspec": {
   "display_name": "Python 3 (ipykernel)",
   "language": "python",
   "name": "python3"
  },
  "language_info": {
   "codemirror_mode": {
    "name": "ipython",
    "version": 3
   },
   "file_extension": ".py",
   "mimetype": "text/x-python",
   "name": "python",
   "nbconvert_exporter": "python",
   "pygments_lexer": "ipython3",
   "version": "3.8.13"
  }
 },
 "nbformat": 4,
 "nbformat_minor": 5
}
